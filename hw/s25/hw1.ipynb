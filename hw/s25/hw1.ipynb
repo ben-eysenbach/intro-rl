{
 "cells": [
  {
   "cell_type": "markdown",
   "metadata": {},
   "source": [
    "# Exploration Strategies in Reinforcement Learning\n",
    "\n",
    "In this assignment, you will explore various strategies for balancing exploration and exploitation in a multi-armed bandit setup. Understanding how different strategies navigate the exploration-exploitation trade-off is crucial in reinforcement learning. You will implement and compare the following strategies:\n",
    "1. Random Exploration\n",
    "2. Epsilon-Greedy (with varying epsilon values)\n",
    "3. Epsilon-Greedy with Decay (You can design their own decay schedule)\n",
    "4. Upper Confidence Bound (UCB)\n"
   ]
  },
  {
   "cell_type": "markdown",
   "metadata": {},
   "source": [
    "## Problem Statement\n",
    "\n",
    "Consider a scenario where you have `N` slot machines, each with a different probability of payout. Your objective is to maximize your rewards over a series of trials. Unlike traditional problems, you don't know the payout probabilities in advance. Your challenge is to balance between exploring different slot machines to discover their payout rates and exploiting the machines you currently believe have the highest payout rates.\n"
   ]
  },
  {
   "cell_type": "markdown",
   "metadata": {},
   "source": [
    "## Your Task\n",
    "\n",
    "Complete the `Bandit` class, the `ucb` function, and the `run_experiment` function based on the hints provided. Then, test your implementation by running experiments with predefined bandit probabilities. Look for `### START CODE HERE ###` and `### END CODE HERE ###` comments in the code to guide you."
   ]
  },
  {
   "cell_type": "code",
   "execution_count": 1,
   "metadata": {},
   "outputs": [],
   "source": [
    "import numpy as np\n",
    "import matplotlib.pyplot as plt\n",
    "import seaborn as sns  # Use seaborn to make plots nicer\n",
    "\n",
    "sns.set()\n",
    "sns.set_palette('colorblind')\n",
    "sns.set_context(\"paper\")\n",
    "\n",
    "# Set the style\n",
    "sns.set_style('whitegrid')"
   ]
  },
  {
   "cell_type": "markdown",
   "metadata": {},
   "source": [
    "## The Bandit Class\n",
    "\n",
    "We start by defining a `Bandit` class to represent each slot machine. This class will have methods to simulate pulling the machine's arm and updating our estimate of its win rate.\n"
   ]
  },
  {
   "cell_type": "code",
   "execution_count": 2,
   "metadata": {},
   "outputs": [],
   "source": [
    "class Bandit:\n",
    "    def __init__(self, p):\n",
    "        self.p = p  # The true win rate\n",
    "        self.p_estimate = 0.0 # The estimated win rate\n",
    "        self.N = 0  # number of samples collected so far\n",
    "    \n",
    "    def pull(self):\n",
    "        pass\n",
    "        ### START CODE HERE ###\n",
    "        # TODO: Simulate pulling the arm. Recall that True is also regarded as 1 and False is regarded as 0 ###\n",
    "        # Hint: Use np.random.random() and compare with self.p to simulate a dense probability distribution\n",
    "        ### END CODE HERE ###\n",
    "    \n",
    "    def update(self, x):\n",
    "        pass\n",
    "        ## START CODE HERE ###\n",
    "        # TODO: Update the win rate estimate and increment N ###\n",
    "        # Hint: Calculate the new estimate as a weighted average of the old estimate and the new sample `x`\n",
    "        ### END CODE HERE ###\n"
   ]
  },
  {
   "cell_type": "markdown",
   "metadata": {},
   "source": [
    "## The Upper Confidence Bound (UCB) Function\n",
    "\n",
    "The UCB algorithm selects the bandit to play based on both the estimated win rates and the uncertainty or variance in these estimates. Implement the UCB calculation in the function below.\n"
   ]
  },
  {
   "cell_type": "code",
   "execution_count": 3,
   "metadata": {},
   "outputs": [],
   "source": [
    "def ucb(mean, n, nj):\n",
    "    pass\n",
    "    ### START CODE HERE ###\n",
    "    # TODO: Implement the UCB formula to calculate the upper confidence bound ###\n",
    "    # Hint: UCB = estimated win rate + exploration factor. The exploration factor can be calculated using np.sqrt(2 * np.log(n) / nj)\n",
    "    ### END CODE HERE ###\n"
   ]
  },
  {
   "cell_type": "markdown",
   "metadata": {},
   "source": [
    "## Running the Experiment\n",
    "\n",
    "We will now set up our experiment to compare how different exploration strategies affect the learning performance and rewards. Focus on implementing the selection logic for each strategy within the `run_experiment` function.\n"
   ]
  },
  {
   "cell_type": "code",
   "execution_count": 4,
   "metadata": {},
   "outputs": [],
   "source": [
    "def run_experiment(bandit_probs, N, strategy=\"ucb\", epsilon=0.1, decay_rate=0.99):\n",
    "    bandits = [Bandit(p) for p in bandit_probs]\n",
    "    rewards = np.zeros(N)\n",
    "    total_plays = 0\n",
    "    \n",
    "    # Strategy selection\n",
    "    \n",
    "    # Below is an example of lambda function that returns a random bandit, refer to this for the implementation of other strategies\n",
    "    if strategy == \"random\":\n",
    "        selection_strategy = lambda: np.random.choice(len(bandits))\n",
    "    \n",
    "    ### START CODE HERE ###\n",
    "    # TODO: Implement the epsilon-greedy strategy.\n",
    "    # HINT: With probability epsilon, select a random bandit; otherwise, select the bandit with the highest estimated win rate.\n",
    "    elif strategy == \"epsilon-greedy\":\n",
    "        pass\n",
    "        # Uncomment and complete the implementation below\n",
    "        # selection_strategy = lambda: np.random.choice([...], p=[...])\n",
    "\n",
    "    \n",
    "    # TODO: Implement the epsilon-greedy with decay strategy.\n",
    "    # HINT: Start with a high value of epsilon for more exploration and decrease it over time to shift towards exploitation.\n",
    "    # You need to customize the decay schedule you want.\n",
    "    elif strategy == \"epsilon-greedy-decay\":\n",
    "        pass\n",
    "        # Uncomment and customize the decay schedule as needed\n",
    "        # current_epsilon = epsilon  # You might want to update this within the loop\n",
    "        # selection_strategy = lambda: ...\n",
    "    \n",
    "    # TODO: Implement the UCB strategy.\n",
    "    # HINT: Use the ucb function to calculate the upper confidence bound for each bandit and select the bandit with the highest bound.\n",
    "    elif strategy == \"ucb\":\n",
    "        pass\n",
    "        # Uncomment and complete the implementation below\n",
    "        # selection_strategy = lambda: ...\n",
    "    \n",
    "    ### END CODE HERE ###\n",
    "    \n",
    "    else:\n",
    "        raise ValueError(\"Unsupported strategy\")\n",
    "    \n",
    "    # Initialization: Play each bandit once - No changes needed\n",
    "    for j in range(len(bandits)):\n",
    "        x = bandits[j].pull()\n",
    "        bandits[j].update(x)\n",
    "        total_plays += 1\n",
    "        rewards[total_plays - 1] = x\n",
    "\n",
    "    ### START CODE HERE ###\n",
    "    for i in range(N):\n",
    "        if strategy == \"epsilon-greedy-decay\":\n",
    "            pass\n",
    "            # TODO: Update current_epsilon using the decay rate\n",
    "       \n",
    "        # TODO: Implement the main loop to play N rounds\n",
    "        # Hint: For each iter, use the `selection_strategy()` function to obtain the bandit to pull, then simulate pulling that bandit and obtain new reward `x`. Update that bandit's estimate and the total number of plays.\n",
    "        # Finally, store `x` in the `rewards` array for final visualization.\n",
    "    ### END CODE HERE ###\n",
    "    \n",
    "\n",
    "    # Plotting the results - No changes needed\n",
    "    cumulative_rewards = np.cumsum(rewards)\n",
    "    win_rates = cumulative_rewards / (np.arange(N) + 1)\n",
    "\n",
    "    plt.plot(win_rates, label=strategy)\n",
    "\n",
    "    # Displaying the estimated probabilities - No changes needed\n",
    "    for b in bandits:\n",
    "        print(f'Strategy {strategy}: Estimated probability of bandit, {b.p_estimate}')\n",
    "    print('Total Reward:', rewards.sum())"
   ]
  },
  {
   "cell_type": "code",
   "execution_count": 5,
   "metadata": {},
   "outputs": [
    {
     "name": "stdout",
     "output_type": "stream",
     "text": [
      "Strategy random: Estimated probability of bandit, 0.0\n",
      "Strategy random: Estimated probability of bandit, 0.0\n",
      "Strategy random: Estimated probability of bandit, 0.0\n",
      "Total Reward: nan\n",
      "Strategy epsilon-greedy: Estimated probability of bandit, 0.0\n",
      "Strategy epsilon-greedy: Estimated probability of bandit, 0.0\n",
      "Strategy epsilon-greedy: Estimated probability of bandit, 0.0\n",
      "Total Reward: nan\n"
     ]
    },
    {
     "ename": "UnboundLocalError",
     "evalue": "local variable 'current_epsilon' referenced before assignment",
     "output_type": "error",
     "traceback": [
      "\u001b[1;31m---------------------------------------------------------------------------\u001b[0m",
      "\u001b[1;31mUnboundLocalError\u001b[0m                         Traceback (most recent call last)",
      "Cell \u001b[1;32mIn [5], line 6\u001b[0m\n\u001b[0;32m      4\u001b[0m \u001b[38;5;66;03m# Run experiments with different strategies\u001b[39;00m\n\u001b[0;32m      5\u001b[0m \u001b[38;5;28;01mfor\u001b[39;00m strategy \u001b[38;5;129;01min\u001b[39;00m [\u001b[38;5;124m\"\u001b[39m\u001b[38;5;124mrandom\u001b[39m\u001b[38;5;124m\"\u001b[39m, \u001b[38;5;124m\"\u001b[39m\u001b[38;5;124mepsilon-greedy\u001b[39m\u001b[38;5;124m\"\u001b[39m, \u001b[38;5;124m\"\u001b[39m\u001b[38;5;124mepsilon-greedy-decay\u001b[39m\u001b[38;5;124m\"\u001b[39m, \u001b[38;5;124m\"\u001b[39m\u001b[38;5;124mucb\u001b[39m\u001b[38;5;124m\"\u001b[39m]:\n\u001b[1;32m----> 6\u001b[0m     \u001b[43mrun_experiment\u001b[49m\u001b[43m(\u001b[49m\u001b[43mbandit_probs\u001b[49m\u001b[43m,\u001b[49m\u001b[43m \u001b[49m\u001b[43mN\u001b[49m\u001b[43m,\u001b[49m\u001b[43m \u001b[49m\u001b[43mstrategy\u001b[49m\u001b[38;5;241;43m=\u001b[39;49m\u001b[43mstrategy\u001b[49m\u001b[43m)\u001b[49m\n\u001b[0;32m      8\u001b[0m plt\u001b[38;5;241m.\u001b[39mxlabel(\u001b[38;5;124m'\u001b[39m\u001b[38;5;124mStep\u001b[39m\u001b[38;5;124m'\u001b[39m)\n\u001b[0;32m      9\u001b[0m plt\u001b[38;5;241m.\u001b[39mylabel(\u001b[38;5;124m'\u001b[39m\u001b[38;5;124mWin rate\u001b[39m\u001b[38;5;124m'\u001b[39m)\n",
      "Cell \u001b[1;32mIn [4], line 53\u001b[0m, in \u001b[0;36mrun_experiment\u001b[1;34m(bandit_probs, N, strategy, epsilon, decay_rate)\u001b[0m\n\u001b[0;32m     50\u001b[0m \u001b[38;5;28;01mfor\u001b[39;00m i \u001b[38;5;129;01min\u001b[39;00m \u001b[38;5;28mrange\u001b[39m(N):\n\u001b[0;32m     51\u001b[0m     \u001b[38;5;28;01mif\u001b[39;00m strategy \u001b[38;5;241m==\u001b[39m \u001b[38;5;124m\"\u001b[39m\u001b[38;5;124mepsilon-greedy-decay\u001b[39m\u001b[38;5;124m\"\u001b[39m:\n\u001b[0;32m     52\u001b[0m         \u001b[38;5;66;03m# Update current_epsilon using the decay rate\u001b[39;00m\n\u001b[1;32m---> 53\u001b[0m         current_epsilon \u001b[38;5;241m*\u001b[39m\u001b[38;5;241m=\u001b[39m decay_rate\n\u001b[0;32m     54\u001b[0m     \u001b[38;5;28;01mpass\u001b[39;00m\n\u001b[0;32m     55\u001b[0m     \u001b[38;5;66;03m### START CODE HERE ###\u001b[39;00m\n\u001b[0;32m     56\u001b[0m     \u001b[38;5;66;03m# TODO: Implement the main loop to play N rounds\u001b[39;00m\n\u001b[0;32m     57\u001b[0m     \u001b[38;5;66;03m# Hint: For each iter, use the `selection_strategy()` function to obtain the bandit to pull, then simulate pulling that bandit and obtain new reward `x`. Update that bandit's estimate and the total number of plays.\u001b[39;00m\n\u001b[1;32m   (...)\u001b[0m\n\u001b[0;32m     61\u001b[0m \n\u001b[0;32m     62\u001b[0m \u001b[38;5;66;03m# Plotting the results - No changes needed\u001b[39;00m\n",
      "\u001b[1;31mUnboundLocalError\u001b[0m: local variable 'current_epsilon' referenced before assignment"
     ]
    },
    {
     "data": {
      "image/png": "[encoded data removed]",
      "text/plain": [
       "<Figure size 640x480 with 1 Axes>"
      ]
     },
     "metadata": {},
     "output_type": "display_data"
    }
   ],
   "source": [
    "bandit_probs = [0.2, 0.5, 0.75]  # Bandit win rates\n",
    "N = 1000  # Number of rounds\n",
    "\n",
    "# Run experiments with different strategies\n",
    "for strategy in [\"random\", \"epsilon-greedy\", \"epsilon-greedy-decay\", \"ucb\"]:\n",
    "    run_experiment(bandit_probs, N, strategy=strategy)\n",
    "\n",
    "plt.xlabel('Step')\n",
    "plt.ylabel('Win rate')\n",
    "plt.legend()\n",
    "plt.show()\n"
   ]
  },
  {
   "cell_type": "code",
   "execution_count": null,
   "metadata": {},
   "outputs": [
    {
     "data": {
      "image/png": "[encoded data removed]",
      "text/plain": [
       "<Figure size 640x480 with 1 Axes>"
      ]
     },
     "metadata": {},
     "output_type": "display_data"
    },
    {
     "name": "stdout",
     "output_type": "stream",
     "text": [
      "Estimated probability of bandit: 0.0\n",
      "Estimated probability of bandit: 0.0\n",
      "Estimated probability of bandit: 0.0\n",
      "Total Reward: nan\n"
     ]
    }
   ],
   "source": [
    "# Example usage\n",
    "bandit_probs = [0.1, 0.6, 0.4]  # Define the probabilities of winning for each bandit\n",
    "N = 10000  # Number of rounds to play\n",
    "\n",
    "# Run experiments with different strategies\n",
    "for strategy in [\"random\", \"epsilon-greedy\", \"epsilon-greedy-decay\", \"ucb\"]:\n",
    "    run_experiment(bandit_probs, N, strategy=strategy)\n",
    "\n",
    "plt.xlabel('Step')\n",
    "plt.ylabel('Win rate')\n",
    "plt.legend()\n",
    "plt.show()"
   ]
  },
  {
   "cell_type": "markdown",
   "metadata": {},
   "source": [
    "## Reflection and Analysis\n",
    "\n",
    "After running the experiments, reflect on the performance of each strategy. Consider the following questions:\n",
    "- Which strategy achieved the highest cumulative reward? Why do you think this was the case?\n",
    "- How did the performance of the epsilon-greedy strategy change with different values of epsilon?\n",
    "- How did the decaying epsilon schedule affect the exploration-exploitation balance over time?\n",
    "- In what ways did the UCB strategy outperform or underperform compared to the others?\n",
    "\n",
    "This exercise should give you insights into how different exploration strategies can influence the learning and decision-making process in reinforcement learning scenarios.\n"
   ]
  }
 ],
 "metadata": {
  "kernelspec": {
   "display_name": "newenv",
   "language": "python",
   "name": "python3"
  },
  "language_info": {
   "codemirror_mode": {
    "name": "ipython",
    "version": 3
   },
   "file_extension": ".py",
   "mimetype": "text/x-python",
   "name": "python",
   "nbconvert_exporter": "python",
   "pygments_lexer": "ipython3",
   "version": "3.10.9"
  }
 },
 "nbformat": 4,
 "nbformat_minor": 2
}
