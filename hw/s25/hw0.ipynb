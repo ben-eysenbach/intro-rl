{
  "nbformat": 4,
  "nbformat_minor": 0,
  "metadata": {
    "colab": {
      "provenance": []
    },
    "kernelspec": {
      "name": "python3",
      "display_name": "Python 3"
    },
    "language_info": {
      "name": "python"
    }
  },
  "cells": [
    {
      "cell_type": "markdown",
      "source": [
        "The goal of this assignment is to **re-familiarize** you with the frameworks you will be using in the rest of this class. We will be using **Python** as our programming language and **PyTorch** as our deep learning framework.\n",
        "\n",
        "Most of this assignment should be similar to work you have done in a past machine learning course (e.g. COS324). We encourage you to try our your own implementations for each problem, and we also encourage reading through online documentation for help. To guide you along each assignment, we have provided a loose guide of what steps you might take, but these are by no means a hard requirement as long as you solve the given question."
      ],
      "metadata": {
        "id": "8AEaIkzaOQj8"
      }
    },
    {
      "cell_type": "markdown",
      "source": [
        "# Question 1.d and 1.e\n",
        "Suppose instead of boxes, we now deal with a *continuous* set of possible decisions. In this scenario, our agent can choose any number $a \\in \\mathbb{R}$, and the reward given to the player is defined by\n",
        "\n",
        "$$\n",
        "    \\mathcal{R}(x) = \\max \\biggr \\{ 0, 1 - |x - 1| \\biggr\\}\n",
        "$$\n",
        "\n",
        "Suppose our agent chooses its action by sampling from a normal distribution $\\mathcal{N}(0.6, 0.09)$ (to avoid confusion, the standard deviation $\\sigma=0.3$ and the variance $\\sigma^2=0.09$). Use sampling to estimate the expected return of this policy. **Report your answer to the nearest tenths. You are responsible for using enough samples that all digits of your answer are accurate.** To familiarize yourself with vectorized operations, **do not use for-loops when computing this value.**"
      ],
      "metadata": {
        "id": "Q4ymrmJPvDl8"
      }
    },
    {
      "cell_type": "code",
      "source": [
        "import torch\n",
        "import torch.nn.functional as F\n",
        "from torch.distributions import Normal\n",
        "\n",
        "import matplotlib.pyplot as plt\n",
        "\n",
        "# Read through the documentation: https://pytorch.org/docs/stable/distributions.html\n",
        "\n",
        "def reward (x: torch.tensor) -> torch.tensor:\n",
        "  \"\"\"\n",
        "    Compute the reward function elementwise over a tensor input.\n",
        "  \"\"\"\n",
        "  return F.relu(1 - torch.abs(x-1))"
      ],
      "metadata": {
        "id": "gS-ParIRvJE0"
      },
      "execution_count": null,
      "outputs": []
    },
    {
      "cell_type": "code",
      "source": [
        "### Your code here.\n",
        "\n",
        "r = reward(...)\n",
        "print(\"Expected reward:\", r.mean())"
      ],
      "metadata": {
        "id": "TMngq-Jrzv-u"
      },
      "execution_count": null,
      "outputs": []
    },
    {
      "cell_type": "markdown",
      "source": [
        "### Question 1.e\n",
        "Plot the reward distribution under this policy using matplotlib.pyplot.hist() or some other histogram plotting library. Make sure to label your axes for this problem (x-axis is reward, y-axis is probability density)."
      ],
      "metadata": {
        "id": "b4InU9rt562h"
      }
    },
    {
      "cell_type": "code",
      "source": [
        "### Your code here.\n",
        "\n",
        "plt.hist(...)\n",
        "plt.show()"
      ],
      "metadata": {
        "id": "GdKoG_W01xaX"
      },
      "execution_count": null,
      "outputs": []
    },
    {
      "cell_type": "markdown",
      "source": [
        "# Question 3\n",
        "In this problem, you will code a barebones version of gradient descent using numpy, as well as an analogous version using torch. The goal is to re-familiarize you with the inner-workings of gradient descent, as well as the standard formulations we use in practice."
      ],
      "metadata": {
        "id": "YVbfOTgrvGqT"
      }
    },
    {
      "cell_type": "markdown",
      "source": [
        "### Question 3, Part (a): Implementing gradient descent for a toy problem from scratch without the use of torch.\n",
        "\n",
        "In this assignment, you will implement gradient descent from scratch to solve a classification problem. Suppose we have an extremely simple linear classifier. Let $N$ be the number of data points in our dataset. Given a dataset $X \\in \\mathbb{R}^{N \\times 10}$ and corresponding target values $y \\in \\mathbb{R}^{N}$, we want to find the weights $W \\in \\mathbb{R}^{10}$ that best fits the data $y = XW$ according to MSE loss using gradient descent. As a reminder, the MSE loss is\n",
        "\n",
        "$$ L(W) = \\frac{1}{2N} (XW - y)^T (XW - y) $$\n",
        "\n",
        "**Remark.** There is a closed form solution to this problem which I'm sure many of you know, but the purpose of this exercise is just a quick way of remembering how gradient descent is implemented. The gradients are purposely quite simple to compute, so for this assignment please use gradient descent.\n",
        "\n"
      ],
      "metadata": {
        "id": "sENjFY3gOcKZ"
      }
    },
    {
      "cell_type": "code",
      "execution_count": null,
      "metadata": {
        "id": "DOhiXgQHON17"
      },
      "outputs": [],
      "source": [
        "import numpy as np"
      ]
    },
    {
      "cell_type": "code",
      "source": [
        "# Import the dataset\n",
        "rng = np.random.RandomState(189289213)\n",
        "X = 10 * rng.rand(1000, 10) # feature matrix\n",
        "y = np.dot(X, [1,2,3,4,5,6,7,8,9,10]) + np.random.normal(0, 0.01) # target vector\n",
        "\n",
        "def init_weights (in_1:int, in_2:int) -> np.ndarray:\n",
        "  return np.random.rand(in_1,in_2)\n",
        "\n",
        "weights = init_weights(X.shape[1], 1)\n",
        "\n",
        "# Helper functions to get you started. Feel free to use or not use them.\n",
        "def gradient_descent(X, y, weights: np.ndarray, eta: float, iterations: int):\n",
        "  for i in range(iterations):\n",
        "    ### Your code here.\n",
        "    pass\n",
        "\n",
        "def grad():\n",
        "  ### Your code here.\n",
        "  pass\n",
        "\n",
        "print(\"Solved weights:\", weights)"
      ],
      "metadata": {
        "id": "2m7VzGl0RMT2"
      },
      "execution_count": null,
      "outputs": []
    },
    {
      "cell_type": "markdown",
      "source": [
        "### Question 3, Part (b)\n",
        "Now rewrite the solution above using the standard torch optimization loop. Define a loss (MSE), call loss.backward(), and use the weights.grad to perform gradient descent."
      ],
      "metadata": {
        "id": "5nmU0WU0nb9w"
      }
    },
    {
      "cell_type": "code",
      "source": [
        "X_t = torch.from_numpy(X).float()\n",
        "y_t = torch.from_numpy(y).float()\n",
        "\n",
        "weights = torch.randn((X.shape[1], 1), requires_grad=True)\n",
        "\n",
        "def gradient_descent_torch(X, y, weights: torch.tensor, eta: float, iterations: int) -> None:\n",
        "  for i in range(iterations):\n",
        "    pass\n",
        "    # Your code here\n",
        "\n",
        "gradient_descent_torch(X_t, y_t, weights, 0.001, 500)\n",
        "print(weights)"
      ],
      "metadata": {
        "id": "YB1utFNmpRDx"
      },
      "execution_count": null,
      "outputs": []
    },
    {
      "cell_type": "markdown",
      "source": [
        "### Optional Question for the Interested!\n",
        "To familiarize yourself with PyTorch, we are going to build a simple model and implement the standard training loop. The goal of this assignment is to build a really (dumb) agent that can \"learn\" (maybe not successfully) how to play a game.\n",
        "\n",
        "Even if you already know how, **do not implement algorithms such as Deep Q Networks or policy gradients**. We know that they already (provably) work! The purpose of this exercise is to naively apply deep learning to an RL-style problem and see what happens."
      ],
      "metadata": {
        "id": "whpSRsv0SoS1"
      }
    },
    {
      "cell_type": "code",
      "source": [
        "import gym"
      ],
      "metadata": {
        "id": "eAu42he6q66Z"
      },
      "execution_count": null,
      "outputs": []
    },
    {
      "cell_type": "code",
      "source": [
        "# From https://colab.research.google.com/github/jeffheaton/t81_558_deep_learning/blob/master/t81_558_class_12_01_ai_gym.ipynb#scrollTo=XYwy9cjlJjEH\n",
        "\n",
        "# Helper functions\n",
        "def env_info(name:str):\n",
        "    env = gym.make(name, new_step_api=True)\n",
        "    spec = gym.spec(name)\n",
        "    print(f\"Action Space: {env.action_space}\")\n",
        "    print(f\"Observation Space: {env.observation_space}\")\n",
        "    print(f\"Max Episode Steps: {spec.max_episode_steps}\")\n",
        "    print(f\"Nondeterministic: {spec.nondeterministic}\")\n",
        "    print(f\"Reward Range: {env.reward_range}\")\n",
        "    print(f\"Reward Threshold: {spec.reward_threshold}\")\n",
        "\n",
        "env_info(\"MountainCar-v0\")"
      ],
      "metadata": {
        "id": "CI2alTiKq9uY",
        "colab": {
          "base_uri": "https://localhost:8080/"
        },
        "outputId": "ee1cbbb4-ec51-4883-bfa9-f1c84c34cd73"
      },
      "execution_count": null,
      "outputs": [
        {
          "output_type": "stream",
          "name": "stdout",
          "text": [
            "Action Space: Discrete(3)\n",
            "Observation Space: Box([-1.2  -0.07], [0.6  0.07], (2,), float32)\n",
            "Max Episode Steps: 200\n",
            "Nondeterministic: False\n",
            "Reward Range: (-inf, inf)\n",
            "Reward Threshold: -110.0\n"
          ]
        },
        {
          "output_type": "stream",
          "name": "stderr",
          "text": [
            "/usr/local/lib/python3.10/dist-packages/ipykernel/ipkernel.py:283: DeprecationWarning: `should_run_async` will not call `transform_cell` automatically in the future. Please pass the result to `transformed_cell` argument and any exception that happen during thetransform in `preprocessing_exc_tuple` in IPython 7.17 and above.\n",
            "  and should_run_async(code)\n"
          ]
        }
      ]
    },
    {
      "cell_type": "markdown",
      "source": [
        "The purpose of the code below is to generate a video of the environment for you to watch. Now, using the standard torch optimization pipeline, try to design a simple deep learning model that plays a bunch of games of MountainCar and tries to maximize the reward."
      ],
      "metadata": {
        "id": "pl3YHlHkyGZ0"
      }
    },
    {
      "cell_type": "code",
      "source": [
        "# HIDE OUTPUT\n",
        "!pip install gym pyvirtualdisplay > /dev/null 2>&1\n",
        "!apt-get install xvfb > /dev/null 2>&1\n",
        "!apt-get install -y xvfb python-opengl ffmpeg > /dev/null 2>&1"
      ],
      "metadata": {
        "id": "iURRmhp4vOSC"
      },
      "execution_count": null,
      "outputs": []
    },
    {
      "cell_type": "code",
      "source": [
        "## From https://colab.research.google.com/github/jeffheaton/t81_558_deep_learning/blob/master/t81_558_class_12_01_ai_gym.ipynb#scrollTo=XYwy9cjlJjEH\n",
        "## This is for rendering is Colab\n",
        "\n",
        "import gym\n",
        "from gym.wrappers.record_video import RecordVideo\n",
        "import glob\n",
        "import io\n",
        "import base64\n",
        "from IPython.display import HTML\n",
        "from pyvirtualdisplay import Display\n",
        "from IPython import display as ipythondisplay\n",
        "\n",
        "display = Display(visible=0, size=(1400, 900))\n",
        "display.start()\n",
        "\n",
        "\"\"\"\n",
        "Utility functions to enable video recording of gym environment\n",
        "and displaying it.\n",
        "To enable video, just do \"env = wrap_env(env)\"\"\n",
        "\"\"\"\n",
        "\n",
        "\n",
        "def show_video():\n",
        "    mp4list = glob.glob('video/*.mp4')\n",
        "    if len(mp4list) > 0:\n",
        "        mp4 = mp4list[0]\n",
        "        video = io.open(mp4, 'r+b').read()\n",
        "        encoded = base64.b64encode(video)\n",
        "        ipythondisplay.display(HTML(data='''<video alt=\"test\" autoplay\n",
        "                loop controls style=\"height: 400px;\">\n",
        "                <source src=\"data:video/mp4;base64,{0}\" type=\"video/mp4\" />\n",
        "             </video>'''.format(encoded.decode('ascii'))))\n",
        "    else:\n",
        "        print(\"Could not find video\")\n",
        "\n",
        "\n",
        "def wrap_env(env):\n",
        "    env = RecordVideo(env, './video',  episode_trigger = lambda episode_number: True)\n",
        "    # env = Monitor(env, './video', force=True)\n",
        "    return env"
      ],
      "metadata": {
        "id": "mjRq-lylt3PZ"
      },
      "execution_count": null,
      "outputs": []
    },
    {
      "cell_type": "markdown",
      "source": [
        "For this problem, **you can design a model that uses any arbitrary loss function or any artbitrary input.**\n",
        "\n",
        "The minimal requirements for this problem are to train an agent on some kind of loss function using a deep learning model defined by the standard torch pipeline (e.g. define an optimizer, loss.backward(), optimizer.step()). You will most likely find that your algorithm does not work.\n",
        "\n",
        "**Short Answer Question**:\n",
        "Think about why a standard function mapping from state to action does not work well in this problem. What would you do to resolve this?"
      ],
      "metadata": {
        "id": "ve7m0pVzwvgi"
      }
    },
    {
      "cell_type": "code",
      "source": [
        "### Training\n",
        "\n",
        "train_env = gym.make(\"MountainCar-v0\")\n",
        "# TRAIN_ITERATIONS = 10000\n",
        "# model = torch.nn.Sequential(...)\n",
        "# optimizer = ...\n",
        "\n",
        "for i in range(TRAIN_ITERATIONS):\n",
        "  # Your code here.\n",
        "  pass\n",
        "\n",
        "### Evaluation\n",
        "\n",
        "env = wrap_env(gym.make(\"MountainCar-v0\", render_mode=\"rgb_array\"))\n",
        "\n",
        "state = env.reset()\n",
        "\n",
        "while True:\n",
        "  env.render()\n",
        "  # Your model will select actions here instead of random sampling, e.g. action = model(state)\n",
        "  action = env.action_space.sample()\n",
        "  state, reward, done, info = env.step(action)\n",
        "\n",
        "  if done:\n",
        "    break\n",
        "\n",
        "env.close()\n",
        "show_video()"
      ],
      "metadata": {
        "colab": {
          "base_uri": "https://localhost:8080/",
          "height": 475
        },
        "id": "SDguvlqBvE93",
        "outputId": "fa0ba6a7-d4f4-457c-c683-308df4f6c975"
      },
      "execution_count": null,
      "outputs": [
        {
          "output_type": "stream",
          "name": "stderr",
          "text": [
            "/usr/local/lib/python3.10/dist-packages/gym/wrappers/record_video.py:78: UserWarning: \u001b[33mWARN: Overwriting existing videos at /content/video folder (try specifying a different `video_folder` for the `RecordVideo` wrapper if this is not desired)\u001b[0m\n",
            "  logger.warn(\n"
          ]
        },
        {
          "output_type": "display_data",
          "data": {
            "text/plain": [
              "<IPython.core.display.HTML object>"
            ],
            "text/html": [
              "<video alt=\"test\" autoplay \n",
              "                loop controls style=\"height: 400px;\">\n",
              "                <source src=\"data:video/mp4;base64,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\" type=\"video/mp4\" />\n",
              "             </video>"
            ]
          },
          "metadata": {}
        }
      ]
    }
  ]
}