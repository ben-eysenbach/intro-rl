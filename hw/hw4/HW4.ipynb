{
  "cells": [
    {
      "cell_type": "markdown",
      "metadata": {
        "id": "Ao1zxz7aDB3h"
      },
      "source": [
        "## Setup\n",
        "Install the necessary libraries for rendering."
      ]
    },
    {
      "cell_type": "code",
      "execution_count": null,
      "metadata": {
        "id": "2M_DloU_CtOI"
      },
      "outputs": [],
      "source": [
        "!apt-get install x11-utils > /dev/null 2>&1\n",
        "!pip install pyglet > /dev/null 2>&1\n",
        "!apt-get install -y xvfb python-opengl > /dev/null 2>&1\n",
        "\n",
        "!pip install gym pyvirtualdisplay > /dev/null 2>&1"
      ]
    },
    {
      "cell_type": "markdown",
      "source": [
        "# HW 4 - Coding\n",
        "In this assignment you will be implementing a Deep Q-network with replay memory to play the Cartpole environment.\n",
        "\n",
        "The general design is a DQN neural network class that you will implemented with a DQNAgent wrapper on top. The DQNAgent controls all the weight updates and environment interactions by calling the DQN when necessary. You will also be filling in the exploration policy and you will be provided the helper class for replay memory.\n",
        "\n",
        "Each #FILL ME IN section should be a few lines of code at most."
      ],
      "metadata": {
        "id": "sRyYSUt6oyVP"
      }
    },
    {
      "cell_type": "markdown",
      "metadata": {
        "id": "hq8dOkRmV-_t"
      },
      "source": [
        "## Part 1: Implementing DQN\n",
        "In this part, you will be filling out the code for a basic DQN model. Recall that for a DQN, we are approximating the Q-value table in Q-learning with a neural network.\n",
        "\n",
        "Fill in all sections labelled # FILL ME IN"
      ]
    },
    {
      "cell_type": "code",
      "execution_count": null,
      "metadata": {
        "id": "Mm0Lquc-qFQC"
      },
      "outputs": [],
      "source": [
        "import os\n",
        "import pdb\n",
        "import sys\n",
        "import copy\n",
        "import json\n",
        "import argparse\n",
        "from datetime import datetime\n",
        "\n",
        "import gym\n",
        "import torch\n",
        "import torch.nn as nn\n",
        "import torch.nn.functional as F\n",
        "import numpy as np\n",
        "import matplotlib.pyplot as plt\n",
        "from IPython import display as ipythondisplay\n",
        "\n",
        "\n",
        "class DQN(nn.Module):\n",
        "    # FILL ME IN\n",
        "\n",
        "class QNetwork():\n",
        "    # This class essentially defines the network architecture.\n",
        "    # It is NOT the PyTorch Q-network model (nn.Module), but a wrapper\n",
        "    # The network should take in state of the world as an input,\n",
        "    # and output Q values of the actions available to the agent as the output.\n",
        "\n",
        "    def __init__(self, args, input, output, learning_rate):\n",
        "        # Define your network architecture here. It is also a good idea to define any training operations\n",
        "        # and optimizers here, initialize your variables, or alternately compile your model here.\n",
        "        self.weights_path = 'models/%s/%s' % (args['env'], datetime.now().strftime(\"%Y-%m-%d_%H-%M-%S\"))\n",
        "\n",
        "        # Network architecture.\n",
        "        self.hidden = 128\n",
        "        self.model = DQN(input, self.hidden, output)\n",
        "\n",
        "        # Loss and optimizer.\n",
        "        self.optim = torch.optim.Adam(self.model.parameters(), lr=learning_rate)\n",
        "        if args['model_file'] is not None:\n",
        "            print('Loading pretrained model from', args['model_file'])\n",
        "            self.load_model_weights(args['model_file'])\n",
        "\n",
        "    def save_model_weights(self, step):\n",
        "        # Helper function to save your model / weights.\n",
        "        if not os.path.exists(self.weights_path): os.makedirs(self.weights_path)\n",
        "        torch.save(self.model.state_dict(), os.path.join(self.weights_path, 'model_%d.h5' % step))\n",
        "\n",
        "    def load_model_weights(self, weight_file):\n",
        "        # Helper function to load model weights.\n",
        "        self.model.load_state_dict(torch.load(weight_file))"
      ]
    },
    {
      "cell_type": "markdown",
      "metadata": {
        "id": "fde4QBrhWktR"
      },
      "source": [
        "## Helper: Replay Memory\n",
        "Replay memory or Experience replay is a simple trick used to learn the Q-value network offline. It also ensures the model can learn from past experiences without weighting heavily towards current observations."
      ]
    },
    {
      "cell_type": "code",
      "execution_count": null,
      "metadata": {
        "colab": {
          "base_uri": "https://localhost:8080/"
        },
        "id": "7w_Wfd8qxnZY",
        "outputId": "11b91fc7-99b5-4819-e92f-4346ae9dcf8a"
      },
      "outputs": [
        {
          "name": "stderr",
          "output_type": "stream",
          "text": [
            "/usr/local/lib/python3.10/dist-packages/ipykernel/ipkernel.py:283: DeprecationWarning: `should_run_async` will not call `transform_cell` automatically in the future. Please pass the result to `transformed_cell` argument and any exception that happen during thetransform in `preprocessing_exc_tuple` in IPython 7.17 and above.\n",
            "  and should_run_async(code)\n"
          ]
        }
      ],
      "source": [
        "class Replay_Memory():\n",
        "    def __init__(self, state_dim, action_dim, memory_size=50000, burn_in=10000):\n",
        "        # The memory essentially stores transitions recorder from the agent\n",
        "        # taking actions in the environment.\n",
        "\n",
        "        # Burn in episodes define the number of episodes that are written into the memory from the\n",
        "        # randomly initialized agent. Memory size is the maximum size after which old elements in the memory are replaced.\n",
        "        # A simple (if not the most efficient) way to implement the memory is as a list of transitions.\n",
        "        self.memory_size = memory_size\n",
        "        self.burn_in = burn_in\n",
        "        self.states = torch.zeros((self.memory_size, state_dim))\n",
        "        self.next_states = torch.zeros((self.memory_size, state_dim))\n",
        "        self.actions = torch.zeros((self.memory_size, 1))\n",
        "        self.rewards = torch.zeros((self.memory_size, 1))\n",
        "        self.dones = torch.zeros((self.memory_size, 1))\n",
        "        self.ptr = 0\n",
        "        self.burned_in = False\n",
        "        self.not_full_yet = True\n",
        "\n",
        "    def append(self, states, actions, rewards, next_states, dones):\n",
        "        self.states[self.ptr] = states\n",
        "        self.actions[self.ptr, 0] = actions\n",
        "        self.rewards[self.ptr, 0] = rewards\n",
        "        self.next_states[self.ptr] = next_states\n",
        "        self.dones[self.ptr, 0] = dones\n",
        "        self.ptr += 1\n",
        "\n",
        "        if self.ptr > self.burn_in:\n",
        "            self.burned_in = True\n",
        "\n",
        "        if self.ptr >= self.memory_size:\n",
        "            self.ptr = 0\n",
        "            self.not_full_yet = False\n",
        "\n",
        "    def sample_batch(self, batch_size=32):\n",
        "        # This function returns a batch of randomly sampled transitions - i.e. state, action, reward, next state, terminal flag tuples.\n",
        "        # You will feed this to your model to train.\n",
        "        if self.not_full_yet:\n",
        "            idxs = torch.from_numpy(np.random.choice(self.ptr, batch_size, False))\n",
        "        else:\n",
        "            idxs = torch.from_numpy(np.random.choice(self.memory_size, batch_size, False))\n",
        "\n",
        "        states = self.states[idxs]\n",
        "        next_states = self.next_states[idxs]\n",
        "        actions = self.actions[idxs]\n",
        "        rewards = self.rewards[idxs]\n",
        "        dones = self.dones[idxs]\n",
        "        return states, actions, rewards, next_states, dones"
      ]
    },
    {
      "cell_type": "markdown",
      "metadata": {
        "id": "WkZCyf2zWxZl"
      },
      "source": [
        "## Part 2: The agent class\n",
        "This section is focused on building the agent that interacts with the environment. The agent wrapper defines a policy (which you will implement), as well as all of the functionality for learning the network and using experience replay. You will implement a large chunk of this class."
      ]
    },
    {
      "cell_type": "code",
      "execution_count": null,
      "metadata": {
        "id": "T-3yd9cyxv2W"
      },
      "outputs": [],
      "source": [
        "class DQN_Agent():\n",
        "    def __init__(self, args):\n",
        "        # Create an instance of the network itself, as well as the memory.\n",
        "        # Here is also a good place to set environmental parameters,\n",
        "        # as well as training parameters - number of episodes / iterations, etc.\n",
        "\n",
        "        # Inputs\n",
        "        self.args = args\n",
        "        self.environment_name = self.args['env']\n",
        "        self.render = self.args['render']\n",
        "        self.epsilon = args['epsilon']\n",
        "        self.network_update_freq = args['network_update_freq']\n",
        "        self.log_freq = args['log_freq']\n",
        "        self.test_freq = args['test_freq']\n",
        "        self.save_freq = args['save_freq']\n",
        "        self.learning_rate = args['learning_rate']\n",
        "\n",
        "        # Env related variables\n",
        "        if self.environment_name == 'CartPole-v0':\n",
        "            self.env = gym.make(self.environment_name, render_mode='rgb_array')\n",
        "            self.discount_factor = 0.99\n",
        "            self.num_episodes = 5000\n",
        "        elif self.environment_name == 'MountainCar-v0':\n",
        "            self.env = gym.make(self.environment_name, render_mode='rgb_array')\n",
        "            self.discount_factor = 1.00\n",
        "            self.num_episodes = 10000\n",
        "        else:\n",
        "            raise Exception(\"Unknown Environment\")\n",
        "\n",
        "        # Other Classes\n",
        "        self.q_network = QNetwork(args, self.env.observation_space.shape[0], self.env.action_space.n, self.learning_rate)\n",
        "        self.target_q_network = QNetwork(args, self.env.observation_space.shape[0], self.env.action_space.n, self.learning_rate)\n",
        "        self.memory = Replay_Memory(self.env.observation_space.shape[0], self.env.action_space.n, memory_size=args['memory_size'])\n",
        "\n",
        "        # Plotting\n",
        "        self.rewards = []\n",
        "        self.td_error = []\n",
        "        self.batch = list(range(32))\n",
        "\n",
        "        # Save hyperparameters\n",
        "        self.logdir = 'logs/%s/%s' % (self.environment_name, datetime.now().strftime(\"%Y-%m-%d_%H-%M-%S\"))\n",
        "        if not os.path.exists(self.logdir):\n",
        "            os.makedirs(self.logdir)\n",
        "        with open(self.logdir + '/hyperparameters.json', 'w') as outfile:\n",
        "            json.dump((self.args), outfile, indent=4)\n",
        "\n",
        "    def epsilon_greedy_policy(self, q_values, epsilon):\n",
        "        # Creating epsilon greedy probabilities to sample from.\n",
        "        # FILL ME IN\n",
        "\n",
        "    def greedy_policy(self, q_values):\n",
        "        # FILL ME IN\n",
        "\n",
        "    def train(self):\n",
        "        # In this function, we will train our network.\n",
        "        # If training without experience replay_memory, then you will interact with the environment\n",
        "        # in this function, while also updating your network parameters.\n",
        "\n",
        "        # When use replay memory, you should interact with environment here, and store these\n",
        "        # transitions to memory, while also updating your model.\n",
        "        self.burn_in_memory()\n",
        "        for step in range(self.num_episodes):\n",
        "            # Generate Episodes using Epsilon Greedy Policy and train the Q network.\n",
        "            self.generate_episode(policy=self.epsilon_greedy_policy, mode='train',\n",
        "                epsilon=self.epsilon, frameskip=self.args['frameskip'])\n",
        "\n",
        "            # Test the network.\n",
        "            if step % self.test_freq == 0:\n",
        "                test_reward, test_error = self.test(episodes=20)\n",
        "                self.rewards.append([test_reward, step])\n",
        "                self.td_error.append([test_error, step])\n",
        "\n",
        "            # Update the target network.\n",
        "            if step % self.network_update_freq == 0:\n",
        "                self.hard_update()\n",
        "\n",
        "            # Logging.\n",
        "            if step % self.log_freq == 0:\n",
        "                print(\"Step: {0:05d}/{1:05d}\".format(step, self.num_episodes))\n",
        "\n",
        "            # Save the model.\n",
        "            if step % self.save_freq == 0:\n",
        "                self.q_network.save_model_weights(step)\n",
        "\n",
        "            step += 1\n",
        "            self.epsilon_decay()\n",
        "\n",
        "            # Render and save the video with the model.\n",
        "            if step % int(self.num_episodes / 3) == 0 and self.args['render']:\n",
        "                # test_video(self, self.environment_name, step)\n",
        "                self.q_network.save_model_weights(step)\n",
        "\n",
        "    def td_estimate (self, state, action):\n",
        "        # FILL ME IN\n",
        "\n",
        "    def td_target (self, reward, next_state, done):\n",
        "        # FILL ME IN\n",
        "\n",
        "    def train_dqn(self):\n",
        "        # Sample from the replay buffer.\n",
        "        state, action, rewards, next_state, done = self.memory.sample_batch(batch_size=32)\n",
        "\n",
        "        # FILL ME IN. Optimization step.\n",
        "        # For reference, we used F.smooth_l1_loss as our loss function.\n",
        "\n",
        "        return loss\n",
        "\n",
        "    def hard_update(self):\n",
        "        self.target_q_network.model.load_state_dict(self.q_network.model.state_dict())\n",
        "\n",
        "    def test(self, model_file=None, episodes=100):\n",
        "        # Evaluate the performance of your agent over 100 episodes, by calculating cumulative rewards for the 100 episodes.\n",
        "        # Here you need to interact with the environment, irrespective of whether you are using a memory.\n",
        "        cum_reward = []\n",
        "        td_error = []\n",
        "        for count in range(episodes):\n",
        "            reward, error = self.generate_episode(policy=self.epsilon_greedy_policy,\n",
        "                mode='test', epsilon=0.05, frameskip=self.args['frameskip'])\n",
        "            cum_reward.append(reward)\n",
        "            td_error.append(error)\n",
        "        cum_reward = torch.tensor(cum_reward)\n",
        "        td_error = torch.tensor(td_error)\n",
        "        print(\"\\nTest Rewards: {0} | TD Error: {1:.4f}\\n\".format(torch.mean(cum_reward), torch.mean(td_error)))\n",
        "        return torch.mean(cum_reward), torch.mean(td_error)\n",
        "\n",
        "    def burn_in_memory(self):\n",
        "        # Initialize your replay memory with a burn_in number of episodes / transitions.\n",
        "        while not self.memory.burned_in:\n",
        "            self.generate_episode(policy=self.epsilon_greedy_policy, mode='burn_in',\n",
        "                epsilon=self.epsilon, frameskip=self.args['frameskip'])\n",
        "        print(\"Burn Complete!\")\n",
        "\n",
        "    def generate_episode(self, policy, epsilon, mode='train', frameskip=1):\n",
        "        \"\"\"\n",
        "        Collects one rollout from the policy in an environment.\n",
        "        \"\"\"\n",
        "        done = False\n",
        "        state = torch.from_numpy(self.env.reset())\n",
        "        rewards = 0\n",
        "        q_values = self.q_network.model.forward((state.reshape(1, -1)))\n",
        "        td_error = []\n",
        "        while not done:\n",
        "            action = policy(q_values, epsilon)\n",
        "            i = 0\n",
        "            while (i < frameskip) and not done:\n",
        "                next_state, reward, done, info = self.env.step(action)\n",
        "                next_state = torch.from_numpy(next_state)\n",
        "                rewards += reward\n",
        "                i += 1\n",
        "            next_q_values = self.q_network.model.forward((next_state.reshape(1, -1)))\n",
        "            if mode in ['train', 'burn_in'] :\n",
        "                self.memory.append(state, action, reward, next_state, done)\n",
        "            else:\n",
        "                td_error.append(abs(reward + self.discount_factor * (1 - done) * torch.max(next_q_values) - q_values))\n",
        "            if not done:\n",
        "                state = copy.deepcopy(next_state.detach())\n",
        "                q_values = copy.deepcopy(next_q_values.detach())\n",
        "\n",
        "            # Train the network.\n",
        "            if mode == 'train':\n",
        "                self.train_dqn()\n",
        "        if td_error == []:\n",
        "          return rewards, []\n",
        "        return rewards, torch.mean(torch.stack(td_error))\n",
        "\n",
        "    def plots(self):\n",
        "        \"\"\"\n",
        "        Plots:\n",
        "        1) Avg Cummulative Test Reward over 20 Plots\n",
        "        2) TD Error\n",
        "        \"\"\"\n",
        "        reward, time =  zip(*self.rewards)\n",
        "        plt.figure(figsize=(8, 3))\n",
        "        plt.subplot(121)\n",
        "        plt.title('Cummulative Reward')\n",
        "        plt.plot(time, reward)\n",
        "        plt.xlabel('iterations')\n",
        "        plt.ylabel('rewards')\n",
        "        plt.legend()\n",
        "        plt.ylim([0, None])\n",
        "\n",
        "        loss, time =  zip(*self.td_error)\n",
        "        plt.subplot(122)\n",
        "        plt.title('Loss')\n",
        "        plt.plot(time, loss)\n",
        "        plt.xlabel('iterations')\n",
        "        plt.ylabel('loss')\n",
        "        plt.show()\n",
        "\n",
        "    def epsilon_decay(self, initial_eps=1.0, final_eps=0.05):\n",
        "        if(self.epsilon > final_eps):\n",
        "            factor = (initial_eps - final_eps) / 10000\n",
        "            self.epsilon -= factor"
      ]
    },
    {
      "cell_type": "markdown",
      "metadata": {
        "id": "QxTjv92ZX0XI"
      },
      "source": [
        "## Helpers and Hyperparameters\n",
        "This class contains helper functions, as well as some extra arguments that you can use to tune or play around with your DQN. There is no required parts to fill in here."
      ]
    },
    {
      "cell_type": "code",
      "execution_count": null,
      "metadata": {
        "id": "zuSShZx0xoGU"
      },
      "outputs": [],
      "source": [
        "# Note: if you have problems creating video captures on servers without GUI,\n",
        "#       you could save and relaod model to create videos on your laptop.\n",
        "def test_video(agent, env_name, episodes):\n",
        "    # Usage:\n",
        "    #   you can pass the arguments within agent.train() as:\n",
        "    #       if episode % int(self.num_episodes/3) == 0:\n",
        "    #           test_video(self, self.environment_name, episode)\n",
        "    save_path = \"%s/video-%s\" % (env_name, episodes)\n",
        "    if not os.path.exists(save_path): os.makedirs(save_path)\n",
        "\n",
        "    # To create video\n",
        "    env = agent.env # gym.wrappers.Monitor(agent.env, save_path, force=True)\n",
        "    reward_total = []\n",
        "    state = env.reset()\n",
        "    done = False\n",
        "    print(\"Video recording the agent with epsilon {0:.4f}\".format(agent.epsilon))\n",
        "    while not done:\n",
        "        q_values = agent.q_network.model.forward(torch.from_numpy(state.reshape(1, -1)))\n",
        "        action = agent.greedy_policy(q_values)\n",
        "        i = 0\n",
        "        while (i < agent.args['frameskip']) and not done:\n",
        "            screen = env.render(mode='rgb_array')\n",
        "            plt.imshow(screen[0])\n",
        "            ipythondisplay.clear_output(wait=True)\n",
        "            ipythondisplay.display(plt.gcf())\n",
        "\n",
        "            next_state, reward, done, info = env.step(action)\n",
        "            reward_total.append(reward)\n",
        "            i += 1\n",
        "        state = next_state\n",
        "    print(\"reward_total: {}\".format(torch.sum(torch.tensor(reward_total))))\n",
        "    ipythondisplay.clear_output(wait=True)\n",
        "    env.close()\n",
        "\n",
        "\n",
        "def init_flags():\n",
        "\n",
        "    flags = {\n",
        "        \"env\": \"CartPole-v0\", # Change to \"MountainCar-v0\" when needed.\n",
        "        \"render\": False,\n",
        "        \"train\": 1,\n",
        "        \"frameskip\" : 1,\n",
        "        \"network_update_freq\": 10,\n",
        "        \"log_freq\": 25,\n",
        "        \"test_freq\": 100,\n",
        "        \"save_freq\": 500,\n",
        "        \"learning_rate\": 5e-4,\n",
        "        \"memory_size\": 50000,\n",
        "        \"epsilon\": 0.5,\n",
        "        \"model_file\": None,\n",
        "    }\n",
        "\n",
        "    return flags\n",
        "\n",
        "\n",
        "def main(render=False):\n",
        "    args = init_flags()\n",
        "    args[\"render\"] = render\n",
        "\n",
        "    # You want to create an instance of the DQN_Agent class here, and then train / test it.\n",
        "    q_agent = DQN_Agent(args)\n",
        "\n",
        "    # Render output videos using the model loaded from file.\n",
        "    if args['render']: test_video(q_agent, args['env'], 1)\n",
        "    else: q_agent.train()  # Train the model."
      ]
    },
    {
      "cell_type": "code",
      "execution_count": null,
      "metadata": {
        "colab": {
          "background_save": true,
          "base_uri": "https://localhost:8080/"
        },
        "id": "hu8EKv4A9Nb7",
        "outputId": "d432369d-ced0-48b8-f7ce-45333cf2beed"
      },
      "outputs": [
        {
          "name": "stderr",
          "output_type": "stream",
          "text": [
            "/usr/local/lib/python3.10/dist-packages/gym/envs/registration.py:593: UserWarning: \u001b[33mWARN: The environment CartPole-v0 is out of date. You should consider upgrading to version `v1`.\u001b[0m\n",
            "  logger.warn(\n",
            "/usr/local/lib/python3.10/dist-packages/gym/core.py:317: DeprecationWarning: \u001b[33mWARN: Initializing wrapper in old step API which returns one bool instead of two. It is recommended to set `new_step_api=True` to use new step API. This will be the default behaviour in future.\u001b[0m\n",
            "  deprecation(\n",
            "/usr/local/lib/python3.10/dist-packages/gym/wrappers/step_api_compatibility.py:39: DeprecationWarning: \u001b[33mWARN: Initializing environment in old step API which returns one bool instead of two. It is recommended to set `new_step_api=True` to use new step API. This will be the default behaviour in future.\u001b[0m\n",
            "  deprecation(\n"
          ]
        },
        {
          "name": "stdout",
          "output_type": "stream",
          "text": [
            "(4,) 2 0.0005\n"
          ]
        },
        {
          "name": "stderr",
          "output_type": "stream",
          "text": [
            "/usr/local/lib/python3.10/dist-packages/gym/utils/passive_env_checker.py:241: DeprecationWarning: `np.bool8` is a deprecated alias for `np.bool_`.  (Deprecated NumPy 1.24)\n",
            "  if not isinstance(terminated, (bool, np.bool8)):\n"
          ]
        },
        {
          "name": "stdout",
          "output_type": "stream",
          "text": [
            "Burn Complete!\n",
            "\n",
            "Test Rewards: 11.449999809265137 | TD Error: 0.9895\n",
            "\n",
            "Step: 00000/05000\n",
            "Step: 00025/05000\n",
            "Step: 00050/05000\n",
            "Step: 00075/05000\n"
          ]
        }
      ],
      "source": [
        "# For training\n",
        "main()\n",
        "\n",
        "# For evaluating video\n",
        "main(render=True)"
      ]
    }
  ],
  "metadata": {
    "colab": {
      "provenance": []
    },
    "kernelspec": {
      "display_name": "Python 3",
      "name": "python3"
    },
    "language_info": {
      "name": "python"
    }
  },
  "nbformat": 4,
  "nbformat_minor": 0
}