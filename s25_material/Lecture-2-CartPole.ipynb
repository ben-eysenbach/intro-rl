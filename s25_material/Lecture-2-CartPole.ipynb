{
 "cells": [
  {
   "cell_type": "code",
   "execution_count": 1,
   "id": "bb8b94aa",
   "metadata": {},
   "outputs": [],
   "source": [
    "### use contrastive_rl kernel\n",
    "import gym\n",
    "import numpy as np\n",
    "import matplotlib.pyplot as plt\n",
    "from IPython import display"
   ]
  },
  {
   "cell_type": "code",
   "execution_count": 98,
   "id": "48d829e0",
   "metadata": {},
   "outputs": [],
   "source": [
    "env = gym.make('CartPole-v1', render_mode='rgb_array')"
   ]
  },
  {
   "cell_type": "code",
   "execution_count": 99,
   "id": "48758d46",
   "metadata": {},
   "outputs": [
    {
     "name": "stdout",
     "output_type": "stream",
     "text": [
      "Actions:\n",
      "Discrete(2)\n"
     ]
    }
   ],
   "source": [
    "print('Actions:')\n",
    "print(env.action_space)"
   ]
  },
  {
   "cell_type": "code",
   "execution_count": 100,
   "id": "0ea07f31",
   "metadata": {},
   "outputs": [
    {
     "data": {
      "text/plain": [
       "1"
      ]
     },
     "execution_count": 100,
     "metadata": {},
     "output_type": "execute_result"
    }
   ],
   "source": [
    "env.action_space.sample()"
   ]
  },
  {
   "cell_type": "code",
   "execution_count": 101,
   "id": "1c57bb50",
   "metadata": {},
   "outputs": [
    {
     "name": "stdout",
     "output_type": "stream",
     "text": [
      "Observations:\n",
      "shape: (4,)\n",
      "low: [-4.8000002e+00 -3.4028235e+38 -4.1887903e-01 -3.4028235e+38]\n",
      "high: [4.8000002e+00 3.4028235e+38 4.1887903e-01 3.4028235e+38]\n"
     ]
    }
   ],
   "source": [
    "print('Observations:')\n",
    "print('shape:', env.observation_space.shape)\n",
    "print('low:', env.observation_space.low)\n",
    "print('high:', env.observation_space.high)"
   ]
  },
  {
   "cell_type": "code",
   "execution_count": 102,
   "id": "c7c9d28d",
   "metadata": {},
   "outputs": [],
   "source": [
    "s, _ = env.reset()"
   ]
  },
  {
   "cell_type": "code",
   "execution_count": 103,
   "id": "1882f5d0",
   "metadata": {},
   "outputs": [
    {
     "data": {
      "text/plain": [
       "array([ 0.0084478 ,  0.03009586, -0.03637523, -0.03221602], dtype=float32)"
      ]
     },
     "execution_count": 103,
     "metadata": {},
     "output_type": "execute_result"
    }
   ],
   "source": [
    "s"
   ]
  },
  {
   "cell_type": "code",
   "execution_count": 104,
   "id": "2d183071",
   "metadata": {},
   "outputs": [],
   "source": [
    "a = 0\n",
    "s, r, done, _, _ = env.step(a)"
   ]
  },
  {
   "cell_type": "code",
   "execution_count": 105,
   "id": "e468982c",
   "metadata": {},
   "outputs": [
    {
     "data": {
      "text/plain": [
       "array([ 0.00904972, -0.16448608, -0.03701955,  0.24877186], dtype=float32)"
      ]
     },
     "execution_count": 105,
     "metadata": {},
     "output_type": "execute_result"
    }
   ],
   "source": [
    "s"
   ]
  },
  {
   "cell_type": "code",
   "execution_count": 106,
   "id": "7aa3bc9e",
   "metadata": {},
   "outputs": [
    {
     "data": {
      "text/plain": [
       "1.0"
      ]
     },
     "execution_count": 106,
     "metadata": {},
     "output_type": "execute_result"
    }
   ],
   "source": [
    "r"
   ]
  },
  {
   "cell_type": "code",
   "execution_count": 107,
   "id": "dd034854",
   "metadata": {},
   "outputs": [
    {
     "data": {
      "text/plain": [
       "False"
      ]
     },
     "execution_count": 107,
     "metadata": {},
     "output_type": "execute_result"
    }
   ],
   "source": [
    "done"
   ]
  },
  {
   "cell_type": "code",
   "execution_count": 108,
   "id": "ace6f548",
   "metadata": {},
   "outputs": [
    {
     "data": {
      "image/png": "[encoded data removed]",
      "text/plain": [
       "<Figure size 640x480 with 1 Axes>"
      ]
     },
     "metadata": {},
     "output_type": "display_data"
    }
   ],
   "source": [
    "plt.imshow(env.render())\n",
    "plt.show()"
   ]
  },
  {
   "cell_type": "code",
   "execution_count": 109,
   "id": "5c624daf",
   "metadata": {},
   "outputs": [
    {
     "name": "stdout",
     "output_type": "stream",
     "text": [
      "Total reward: 99.3\n"
     ]
    },
    {
     "data": {
      "image/png": "[encoded data removed]",
      "text/plain": [
       "<Figure size 640x480 with 1 Axes>"
      ]
     },
     "metadata": {},
     "output_type": "display_data"
    }
   ],
   "source": [
    "def policy(observation):\n",
    "  action = np.random.choice([0, 1])\n",
    "  LEFT, RIGHT = 0, 1\n",
    "  cart_pos, cart_vel, pole_angle, pole_angular_vel = observation\n",
    "\n",
    "  # TODO:\n",
    "  if pole_angle + pole_angular_vel < 0:\n",
    "    action = LEFT\n",
    "  else:\n",
    "    action = RIGHT\n",
    "  \n",
    "  return action\n",
    "  \n",
    "discount = 0.99\n",
    "done = False\n",
    "total_reward = 0\n",
    "\n",
    "\n",
    "img = plt.imshow(env.render())\n",
    "def render():\n",
    "  rgb = env.render()\n",
    "  if done:\n",
    "    rgb[:, :, 1:] = rgb[:, :, 1:] / 2\n",
    "  img.set_data(rgb) \n",
    "  plt.axis('off')\n",
    "  display.display(plt.gcf())\n",
    "  display.clear_output(wait=True)\n",
    "\n",
    "\n",
    "s, _ = env.reset()\n",
    "for t in range(env._max_episode_steps):\n",
    "#   print(t)\n",
    "  action = policy(s)\n",
    "  s, r, done, _, _ = env.step(action)\n",
    "  render()\n",
    "  total_reward += (discount**t) * r\n",
    "  if done:\n",
    "    break\n",
    "print('Total reward: %.1f' % total_reward)"
   ]
  },
  {
   "cell_type": "markdown",
   "id": "eb47e0ec",
   "metadata": {},
   "source": [
    "------------------------\n",
    "# Acrobot"
   ]
  },
  {
   "cell_type": "code",
   "execution_count": 110,
   "id": "0f6e7cc8",
   "metadata": {},
   "outputs": [
    {
     "name": "stdout",
     "output_type": "stream",
     "text": [
      "Total reward: -99.3\n"
     ]
    },
    {
     "data": {
      "image/png": "[encoded data removed]",
      "text/plain": [
       "<Figure size 640x480 with 1 Axes>"
      ]
     },
     "metadata": {},
     "output_type": "display_data"
    }
   ],
   "source": [
    "env = gym.make('Acrobot-v1', render_mode='rgb_array')\n",
    "env.reset()\n",
    "\n",
    "### Plotting code -- ignore this\n",
    "img = plt.imshow(env.render())\n",
    "def render():\n",
    "  rgb = env.render()\n",
    "  if done:\n",
    "    rgb[:, :, 1:] = rgb[:, :, 1:] / 2\n",
    "  img.set_data(rgb) \n",
    "  plt.axis('off')\n",
    "  display.display(plt.gcf())\n",
    "  display.clear_output(wait=True)\n",
    "  \n",
    "### Interaction loop\n",
    "obs, _ = env.reset()\n",
    "done = False\n",
    "total_reward = 0\n",
    "discount = 0.99\n",
    "for t in range(env._max_episode_steps):\n",
    "  action = env.action_space.sample()\n",
    "  obs, reward, done, _, _ = env.step(action)\n",
    "  total_reward += discount**t * reward\n",
    "  render()\n",
    "  if done:\n",
    "    break\n",
    "print('Total reward: %.1f' % total_reward)"
   ]
  },
  {
   "cell_type": "code",
   "execution_count": null,
   "id": "aa3bf949",
   "metadata": {},
   "outputs": [],
   "source": []
  }
 ],
 "metadata": {
  "kernelspec": {
   "display_name": "contrastive_rl",
   "language": "python",
   "name": "contrastive_rl"
  },
  "language_info": {
   "codemirror_mode": {
    "name": "ipython",
    "version": 3
   },
   "file_extension": ".py",
   "mimetype": "text/x-python",
   "name": "python",
   "nbconvert_exporter": "python",
   "pygments_lexer": "ipython3",
   "version": "3.10.15"
  }
 },
 "nbformat": 4,
 "nbformat_minor": 5
}
